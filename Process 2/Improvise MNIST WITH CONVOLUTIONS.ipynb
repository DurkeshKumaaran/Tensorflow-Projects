{
 "cells": [
  {
   "cell_type": "code",
   "execution_count": 2,
   "metadata": {},
   "outputs": [],
   "source": [
    "import tensorflow as tf\n",
    "from tensorflow import keras\n"
   ]
  },
  {
   "cell_type": "code",
   "execution_count": 14,
   "metadata": {},
   "outputs": [],
   "source": [
    "class CustomCallbacks(tf.keras.callbacks.Callback):\n",
    "    def on_epoch_end(self, epoch, logs={}):\n",
    "        if(logs.get('accuracy')>=0.998):\n",
    "            print(\"Reached 99.8% accuracy so cancelling training!\")\n",
    "            self.model.stop_training = True\n",
    "def train_mnist_conv():\n",
    "    mnist = tf.keras.datasets.mnist\n",
    "    (training_images, training_labels), (test_images, test_labels) = mnist.load_data()\n",
    "    training_images=training_images.reshape(60000,28,28,1)\n",
    "    test_images=test_images.reshape(10000,28,28,1)\n",
    "    training_images=training_images/255.0\n",
    "    test_images=test_images/255.0\n",
    "\n",
    "    model = tf.keras.models.Sequential([\n",
    "               tf.keras.layers.Conv2D(64, (3, 3), activation='relu', input_shape=(28,28,1)),\n",
    "               tf.keras.layers.MaxPooling2D(2, 2),\n",
    "               tf.keras.layers.Flatten(),\n",
    "               tf.keras.layers.Dense(128, activation='relu'),\n",
    "               tf.keras.layers.Dense(64, activation='relu'),\n",
    "               tf.keras.layers.Dense(10, activation='softmax')\n",
    "    ])\n",
    "\n",
    "    model.compile(optimizer='adam', loss='sparse_categorical_crossentropy', metrics=['accuracy'])\n",
    "    history = model.fit(\n",
    "      \n",
    "            training_images,\n",
    "            training_labels,\n",
    "            batch_size=64,\n",
    "            epochs=20,\n",
    "            callbacks=[CustomCallbacks()]\n",
    "      \n",
    "    )\n",
    "    return history.epoch, history.history['accuracy'][-1]\n",
    "\n"
   ]
  },
  {
   "cell_type": "code",
   "execution_count": 15,
   "metadata": {},
   "outputs": [
    {
     "name": "stdout",
     "output_type": "stream",
     "text": [
      "Epoch 1/20\n",
      "938/938 [==============================] - 42s 45ms/step - loss: 0.3534 - accuracy: 0.8899\n",
      "Epoch 2/20\n",
      "938/938 [==============================] - 37s 39ms/step - loss: 0.0557 - accuracy: 0.9835\n",
      "Epoch 3/20\n",
      "938/938 [==============================] - 36s 38ms/step - loss: 0.0330 - accuracy: 0.9897\n",
      "Epoch 4/20\n",
      "938/938 [==============================] - 36s 38ms/step - loss: 0.0225 - accuracy: 0.9929\n",
      "Epoch 5/20\n",
      "938/938 [==============================] - 36s 38ms/step - loss: 0.0151 - accuracy: 0.9951\n",
      "Epoch 6/20\n",
      "938/938 [==============================] - 54s 57ms/step - loss: 0.0115 - accuracy: 0.9962\n",
      "Epoch 7/20\n",
      "938/938 [==============================] - 56s 60ms/step - loss: 0.0087 - accuracy: 0.9972\n",
      "Epoch 8/20\n",
      "938/938 [==============================] - 46s 49ms/step - loss: 0.0085 - accuracy: 0.9973\n",
      "Epoch 9/20\n",
      "938/938 [==============================] - 45s 48ms/step - loss: 0.0065 - accuracy: 0.9981\n",
      "Epoch 10/20\n",
      "938/938 [==============================] - 43s 46ms/step - loss: 0.0030 - accuracy: 0.9990\n",
      "Reached 99.8% accuracy so cancelling training!\n"
     ]
    }
   ],
   "source": [
    "training_images, training_labels = train_mnist_conv()"
   ]
  }
 ],
 "metadata": {
  "kernelspec": {
   "display_name": "Python 3",
   "language": "python",
   "name": "python3"
  },
  "language_info": {
   "codemirror_mode": {
    "name": "ipython",
    "version": 3
   },
   "file_extension": ".py",
   "mimetype": "text/x-python",
   "name": "python",
   "nbconvert_exporter": "python",
   "pygments_lexer": "ipython3",
   "version": "3.8.5"
  }
 },
 "nbformat": 4,
 "nbformat_minor": 4
}
