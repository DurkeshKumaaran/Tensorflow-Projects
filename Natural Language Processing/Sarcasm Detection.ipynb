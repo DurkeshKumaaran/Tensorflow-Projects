{
 "cells": [
  {
   "cell_type": "code",
   "execution_count": 1,
   "metadata": {},
   "outputs": [
    {
     "name": "stdout",
     "output_type": "stream",
     "text": [
      "2.4.1\n"
     ]
    }
   ],
   "source": [
    "import tensorflow as tf\n",
    "print(tf.__version__)"
   ]
  },
  {
   "cell_type": "code",
   "execution_count": 2,
   "metadata": {},
   "outputs": [],
   "source": [
    "import json\n",
    "from tensorflow.keras.preprocessing.text import Tokenizer\n",
    "from tensorflow.keras.preprocessing.sequence import pad_sequences"
   ]
  },
  {
   "cell_type": "code",
   "execution_count": 3,
   "metadata": {},
   "outputs": [
    {
     "name": "stdout",
     "output_type": "stream",
     "text": [
      "--2021-03-03 09:22:15--  https://storage.googleapis.com/laurencemoroney-blog.appspot.com/sarcasm.json\n",
      "Resolving storage.googleapis.com (storage.googleapis.com)... 2404:6800:4007:809::2010, 2404:6800:4007:803::2010, 2404:6800:4007:802::2010, ...\n",
      "Connecting to storage.googleapis.com (storage.googleapis.com)|2404:6800:4007:809::2010|:443... connected.\n",
      "HTTP request sent, awaiting response... 200 OK\n",
      "Length: 5643545 (5.4M) [application/json]\n",
      "Saving to: ‘/tmp/sarcasm.json’\n",
      "\n",
      "/tmp/sarcasm.json   100%[===================>]   5.38M   299KB/s    in 16s     \n",
      "\n",
      "2021-03-03 09:22:37 (348 KB/s) - ‘/tmp/sarcasm.json’ saved [5643545/5643545]\n",
      "\n"
     ]
    }
   ],
   "source": [
    "!wget --no-check-certificate \\\n",
    "    https://storage.googleapis.com/laurencemoroney-blog.appspot.com/sarcasm.json \\\n",
    "    -O /tmp/sarcasm.json"
   ]
  },
  {
   "cell_type": "code",
   "execution_count": 4,
   "metadata": {},
   "outputs": [],
   "source": [
    "with open(\"/tmp/sarcasm.json\", 'r') as f:\n",
    "    datastore = json.load(f)\n",
    "\n",
    "sentences = []\n",
    "labels = []\n",
    "\n",
    "for item in datastore:\n",
    "    sentences.append(item['headline'])\n",
    "    labels.append(item['is_sarcastic'])"
   ]
  },
  {
   "cell_type": "code",
   "execution_count": 5,
   "metadata": {},
   "outputs": [],
   "source": [
    "training_size = 20000\n",
    "training_sentences = sentences[0:training_size]\n",
    "testing_sentences = sentences[training_size:]\n",
    "training_labels = labels[0:training_size]\n",
    "testing_labels = labels[training_size:]"
   ]
  },
  {
   "cell_type": "code",
   "execution_count": 6,
   "metadata": {},
   "outputs": [],
   "source": [
    "vocab_size = 10000\n",
    "embedding_dim = 16\n",
    "max_length = 100\n",
    "trunc_type='post'\n",
    "padding_type='post'\n",
    "oov_tok = \"<OOV>\""
   ]
  },
  {
   "cell_type": "code",
   "execution_count": 7,
   "metadata": {},
   "outputs": [],
   "source": [
    "#Word Indexing\n",
    "tokenizer = Tokenizer(num_words=vocab_size, oov_token=oov_tok)\n",
    "\n",
    "tokenizer.fit_on_texts(training_sentences)\n",
    "\n",
    "word_index = tokenizer.word_index\n"
   ]
  },
  {
   "cell_type": "code",
   "execution_count": 8,
   "metadata": {},
   "outputs": [],
   "source": [
    "#Sequence Conversion for Training set\n",
    "training_sequences = tokenizer.texts_to_sequences(training_sentences)\n",
    "training_padded = pad_sequences(training_sequences, maxlen=max_length, padding=padding_type, truncating=trunc_type)\n",
    "\n",
    "#Sequence Conversion for Training set\n",
    "testing_sequences = tokenizer.texts_to_sequences(testing_sentences)\n",
    "testing_padded = pad_sequences(testing_sequences, maxlen=max_length, padding=padding_type, truncating=trunc_type)"
   ]
  },
  {
   "cell_type": "code",
   "execution_count": 9,
   "metadata": {},
   "outputs": [],
   "source": [
    "import numpy as np\n",
    "training_padded = np.array(training_padded)\n",
    "training_labels = np.array(training_labels)\n",
    "testing_padded = np.array(testing_padded)\n",
    "testing_labels = np.array(testing_labels)"
   ]
  },
  {
   "cell_type": "code",
   "execution_count": 10,
   "metadata": {},
   "outputs": [],
   "source": [
    "model = tf.keras.Sequential([\n",
    "    tf.keras.layers.Embedding(vocab_size, embedding_dim, input_length=max_length),\n",
    "    tf.keras.layers.GlobalAveragePooling1D(),\n",
    "    tf.keras.layers.Dense(24, activation='relu'),\n",
    "    tf.keras.layers.Dense(1, activation='sigmoid')\n",
    "])\n",
    "model.compile(loss='binary_crossentropy',optimizer='adam',metrics=['accuracy'])"
   ]
  },
  {
   "cell_type": "code",
   "execution_count": 11,
   "metadata": {},
   "outputs": [
    {
     "name": "stdout",
     "output_type": "stream",
     "text": [
      "Epoch 1/30\n",
      "625/625 - 5s - loss: 0.6572 - accuracy: 0.6047 - val_loss: 0.5480 - val_accuracy: 0.8007\n",
      "Epoch 2/30\n",
      "625/625 - 2s - loss: 0.4145 - accuracy: 0.8349 - val_loss: 0.3794 - val_accuracy: 0.8439\n",
      "Epoch 3/30\n",
      "625/625 - 2s - loss: 0.3051 - accuracy: 0.8799 - val_loss: 0.3523 - val_accuracy: 0.8520\n",
      "Epoch 4/30\n",
      "625/625 - 2s - loss: 0.2559 - accuracy: 0.8990 - val_loss: 0.3426 - val_accuracy: 0.8575\n",
      "Epoch 5/30\n",
      "625/625 - 2s - loss: 0.2198 - accuracy: 0.9146 - val_loss: 0.3556 - val_accuracy: 0.8506\n",
      "Epoch 6/30\n",
      "625/625 - 2s - loss: 0.1935 - accuracy: 0.9255 - val_loss: 0.3589 - val_accuracy: 0.8499\n",
      "Epoch 7/30\n",
      "625/625 - 3s - loss: 0.1714 - accuracy: 0.9355 - val_loss: 0.3664 - val_accuracy: 0.8544\n",
      "Epoch 8/30\n",
      "625/625 - 2s - loss: 0.1526 - accuracy: 0.9442 - val_loss: 0.3890 - val_accuracy: 0.8512\n",
      "Epoch 9/30\n",
      "625/625 - 2s - loss: 0.1372 - accuracy: 0.9502 - val_loss: 0.4136 - val_accuracy: 0.8448\n",
      "Epoch 10/30\n",
      "625/625 - 2s - loss: 0.1241 - accuracy: 0.9574 - val_loss: 0.4216 - val_accuracy: 0.8504\n",
      "Epoch 11/30\n",
      "625/625 - 2s - loss: 0.1119 - accuracy: 0.9618 - val_loss: 0.4457 - val_accuracy: 0.8495\n",
      "Epoch 12/30\n",
      "625/625 - 2s - loss: 0.1021 - accuracy: 0.9657 - val_loss: 0.4843 - val_accuracy: 0.8386\n",
      "Epoch 13/30\n",
      "625/625 - 2s - loss: 0.0951 - accuracy: 0.9675 - val_loss: 0.5026 - val_accuracy: 0.8417\n",
      "Epoch 14/30\n",
      "625/625 - 2s - loss: 0.0854 - accuracy: 0.9711 - val_loss: 0.5290 - val_accuracy: 0.8411\n",
      "Epoch 15/30\n",
      "625/625 - 2s - loss: 0.0774 - accuracy: 0.9745 - val_loss: 0.5919 - val_accuracy: 0.8317\n",
      "Epoch 16/30\n",
      "625/625 - 2s - loss: 0.0706 - accuracy: 0.9775 - val_loss: 0.5949 - val_accuracy: 0.8350\n",
      "Epoch 17/30\n",
      "625/625 - 2s - loss: 0.0656 - accuracy: 0.9785 - val_loss: 0.6317 - val_accuracy: 0.8332\n",
      "Epoch 18/30\n",
      "625/625 - 2s - loss: 0.0603 - accuracy: 0.9805 - val_loss: 0.6715 - val_accuracy: 0.8311\n",
      "Epoch 19/30\n",
      "625/625 - 2s - loss: 0.0554 - accuracy: 0.9825 - val_loss: 0.6984 - val_accuracy: 0.8275\n",
      "Epoch 20/30\n",
      "625/625 - 2s - loss: 0.0507 - accuracy: 0.9843 - val_loss: 0.7525 - val_accuracy: 0.8258\n",
      "Epoch 21/30\n",
      "625/625 - 2s - loss: 0.0467 - accuracy: 0.9855 - val_loss: 0.8612 - val_accuracy: 0.8167\n",
      "Epoch 22/30\n",
      "625/625 - 3s - loss: 0.0423 - accuracy: 0.9873 - val_loss: 0.8172 - val_accuracy: 0.8249\n",
      "Epoch 23/30\n",
      "625/625 - 2s - loss: 0.0400 - accuracy: 0.9882 - val_loss: 0.8643 - val_accuracy: 0.8183\n",
      "Epoch 24/30\n",
      "625/625 - 2s - loss: 0.0370 - accuracy: 0.9887 - val_loss: 0.8993 - val_accuracy: 0.8146\n",
      "Epoch 25/30\n",
      "625/625 - 2s - loss: 0.0346 - accuracy: 0.9890 - val_loss: 0.9652 - val_accuracy: 0.8176\n",
      "Epoch 26/30\n",
      "625/625 - 2s - loss: 0.0308 - accuracy: 0.9912 - val_loss: 0.9729 - val_accuracy: 0.8193\n",
      "Epoch 27/30\n",
      "625/625 - 2s - loss: 0.0272 - accuracy: 0.9926 - val_loss: 1.0104 - val_accuracy: 0.8126\n",
      "Epoch 28/30\n",
      "625/625 - 2s - loss: 0.0265 - accuracy: 0.9927 - val_loss: 1.0598 - val_accuracy: 0.8143\n",
      "Epoch 29/30\n",
      "625/625 - 2s - loss: 0.0235 - accuracy: 0.9931 - val_loss: 1.0987 - val_accuracy: 0.8143\n",
      "Epoch 30/30\n",
      "625/625 - 2s - loss: 0.0239 - accuracy: 0.9930 - val_loss: 1.1696 - val_accuracy: 0.8131\n"
     ]
    }
   ],
   "source": [
    "history = model.fit(training_padded, \n",
    "                    training_labels, \n",
    "                    epochs=30, \n",
    "                    validation_data=(testing_padded, testing_labels), \n",
    "                    verbose=2)"
   ]
  }
 ],
 "metadata": {
  "kernelspec": {
   "display_name": "Python 3",
   "language": "python",
   "name": "python3"
  },
  "language_info": {
   "codemirror_mode": {
    "name": "ipython",
    "version": 3
   },
   "file_extension": ".py",
   "mimetype": "text/x-python",
   "name": "python",
   "nbconvert_exporter": "python",
   "pygments_lexer": "ipython3",
   "version": "3.8.5"
  }
 },
 "nbformat": 4,
 "nbformat_minor": 4
}
