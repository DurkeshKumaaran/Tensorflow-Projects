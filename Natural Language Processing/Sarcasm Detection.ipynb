{
 "cells": [
  {
   "cell_type": "code",
   "execution_count": 1,
   "metadata": {},
   "outputs": [
    {
     "name": "stdout",
     "output_type": "stream",
     "text": [
      "2.4.1\n"
     ]
    }
   ],
   "source": [
    "#Using Four different Neural Networks, to avoid the overfitting and to find the Highly Accurate one\n",
    "import tensorflow as tf\n",
    "print(tf.__version__)"
   ]
  },
  {
   "cell_type": "code",
   "execution_count": 2,
   "metadata": {},
   "outputs": [],
   "source": [
    "import json\n",
    "from tensorflow.keras.preprocessing.text import Tokenizer\n",
    "from tensorflow.keras.preprocessing.sequence import pad_sequences"
   ]
  },
  {
   "cell_type": "code",
   "execution_count": 4,
   "metadata": {},
   "outputs": [
    {
     "name": "stdout",
     "output_type": "stream",
     "text": [
      "--2021-03-04 09:41:47--  https://storage.googleapis.com/laurencemoroney-blog.appspot.com/sarcasm.json\n",
      "Resolving storage.googleapis.com (storage.googleapis.com)... 2404:6800:4007:812::2010, 2404:6800:4007:810::2010, 2404:6800:4007:80c::2010, ...\n",
      "Connecting to storage.googleapis.com (storage.googleapis.com)|2404:6800:4007:812::2010|:443... connected.\n",
      "HTTP request sent, awaiting response... 200 OK\n",
      "Length: 5643545 (5.4M) [application/json]\n",
      "Saving to: ‘/tmp/sarcasm.json’\n",
      "\n",
      "/tmp/sarcasm.json   100%[===================>]   5.38M   155KB/s    in 31s     \n",
      "\n",
      "2021-03-04 09:42:19 (178 KB/s) - ‘/tmp/sarcasm.json’ saved [5643545/5643545]\n",
      "\n"
     ]
    }
   ],
   "source": [
    "!wget --no-check-certificate \\\n",
    "    https://storage.googleapis.com/laurencemoroney-blog.appspot.com/sarcasm.json \\\n",
    "    -O /tmp/sarcasm.json"
   ]
  },
  {
   "cell_type": "code",
   "execution_count": 5,
   "metadata": {},
   "outputs": [],
   "source": [
    "with open(\"/tmp/sarcasm.json\", 'r') as f:\n",
    "    datastore = json.load(f)\n",
    "\n",
    "sentences = []\n",
    "labels = []\n",
    "\n",
    "for item in datastore:\n",
    "    sentences.append(item['headline'])\n",
    "    labels.append(item['is_sarcastic'])"
   ]
  },
  {
   "cell_type": "code",
   "execution_count": 6,
   "metadata": {},
   "outputs": [],
   "source": [
    "training_size = 20000\n",
    "training_sentences = sentences[0:training_size]\n",
    "testing_sentences = sentences[training_size:]\n",
    "training_labels = labels[0:training_size]\n",
    "testing_labels = labels[training_size:]"
   ]
  },
  {
   "cell_type": "code",
   "execution_count": 7,
   "metadata": {},
   "outputs": [],
   "source": [
    "vocab_size = 10000\n",
    "embedding_dim = 16\n",
    "max_length = 100\n",
    "trunc_type='post'\n",
    "padding_type='post'\n",
    "oov_tok = \"<OOV>\""
   ]
  },
  {
   "cell_type": "code",
   "execution_count": 8,
   "metadata": {},
   "outputs": [],
   "source": [
    "#Word Indexing\n",
    "tokenizer = Tokenizer(num_words=vocab_size, oov_token=oov_tok)\n",
    "\n",
    "tokenizer.fit_on_texts(training_sentences)\n",
    "\n",
    "word_index = tokenizer.word_index\n"
   ]
  },
  {
   "cell_type": "code",
   "execution_count": 9,
   "metadata": {},
   "outputs": [],
   "source": [
    "#Sequence Conversion for Training set\n",
    "training_sequences = tokenizer.texts_to_sequences(training_sentences)\n",
    "training_padded = pad_sequences(training_sequences, maxlen=max_length, padding=padding_type, truncating=trunc_type)\n",
    "\n",
    "#Sequence Conversion for Training set\n",
    "testing_sequences = tokenizer.texts_to_sequences(testing_sentences)\n",
    "testing_padded = pad_sequences(testing_sequences, maxlen=max_length, padding=padding_type, truncating=trunc_type)"
   ]
  },
  {
   "cell_type": "code",
   "execution_count": 10,
   "metadata": {},
   "outputs": [],
   "source": [
    "import numpy as np\n",
    "training_padded = np.array(training_padded)\n",
    "training_labels = np.array(training_labels)\n",
    "testing_padded = np.array(testing_padded)\n",
    "testing_labels = np.array(testing_labels)"
   ]
  },
  {
   "cell_type": "code",
   "execution_count": 12,
   "metadata": {},
   "outputs": [],
   "source": [
    "#Simple RNN\n",
    "model1 = tf.keras.Sequential([\n",
    "    tf.keras.layers.Embedding(vocab_size, embedding_dim, input_length=max_length),\n",
    "    tf.keras.layers.GlobalAveragePooling1D(),\n",
    "    tf.keras.layers.Dense(24, activation='relu'),\n",
    "    tf.keras.layers.Dense(1, activation='sigmoid')\n",
    "])\n",
    "model1.compile(loss='binary_crossentropy',optimizer='adam',metrics=['accuracy'])"
   ]
  },
  {
   "cell_type": "code",
   "execution_count": 13,
   "metadata": {},
   "outputs": [
    {
     "name": "stdout",
     "output_type": "stream",
     "text": [
      "Epoch 1/30\n",
      "625/625 - 4s - loss: 0.6604 - accuracy: 0.5949 - val_loss: 0.5806 - val_accuracy: 0.6584\n",
      "Epoch 2/30\n",
      "625/625 - 2s - loss: 0.4374 - accuracy: 0.8286 - val_loss: 0.3899 - val_accuracy: 0.8369\n",
      "Epoch 3/30\n",
      "625/625 - 2s - loss: 0.3167 - accuracy: 0.8754 - val_loss: 0.3550 - val_accuracy: 0.8509\n",
      "Epoch 4/30\n",
      "625/625 - 2s - loss: 0.2632 - accuracy: 0.8982 - val_loss: 0.3469 - val_accuracy: 0.8539\n",
      "Epoch 5/30\n",
      "625/625 - 2s - loss: 0.2299 - accuracy: 0.9101 - val_loss: 0.3417 - val_accuracy: 0.8554\n",
      "Epoch 6/30\n",
      "625/625 - 2s - loss: 0.2021 - accuracy: 0.9240 - val_loss: 0.3467 - val_accuracy: 0.8544\n",
      "Epoch 7/30\n",
      "625/625 - 2s - loss: 0.1785 - accuracy: 0.9311 - val_loss: 0.3624 - val_accuracy: 0.8515\n",
      "Epoch 8/30\n",
      "625/625 - 2s - loss: 0.1599 - accuracy: 0.9408 - val_loss: 0.3798 - val_accuracy: 0.8481\n",
      "Epoch 9/30\n",
      "625/625 - 2s - loss: 0.1460 - accuracy: 0.9468 - val_loss: 0.3857 - val_accuracy: 0.8523\n",
      "Epoch 10/30\n",
      "625/625 - 2s - loss: 0.1297 - accuracy: 0.9546 - val_loss: 0.4307 - val_accuracy: 0.8368\n",
      "Epoch 11/30\n",
      "625/625 - 2s - loss: 0.1196 - accuracy: 0.9573 - val_loss: 0.4283 - val_accuracy: 0.8478\n",
      "Epoch 12/30\n",
      "625/625 - 2s - loss: 0.1085 - accuracy: 0.9630 - val_loss: 0.4487 - val_accuracy: 0.8456\n",
      "Epoch 13/30\n",
      "625/625 - 2s - loss: 0.0993 - accuracy: 0.9662 - val_loss: 0.4732 - val_accuracy: 0.8433\n",
      "Epoch 14/30\n",
      "625/625 - 2s - loss: 0.0931 - accuracy: 0.9682 - val_loss: 0.5030 - val_accuracy: 0.8390\n",
      "Epoch 15/30\n",
      "625/625 - 2s - loss: 0.0841 - accuracy: 0.9712 - val_loss: 0.5224 - val_accuracy: 0.8414\n",
      "Epoch 16/30\n",
      "625/625 - 2s - loss: 0.0772 - accuracy: 0.9743 - val_loss: 0.5587 - val_accuracy: 0.8332\n",
      "Epoch 17/30\n",
      "625/625 - 2s - loss: 0.0723 - accuracy: 0.9763 - val_loss: 0.6216 - val_accuracy: 0.8272\n",
      "Epoch 18/30\n",
      "625/625 - 2s - loss: 0.0658 - accuracy: 0.9790 - val_loss: 0.6042 - val_accuracy: 0.8348\n",
      "Epoch 19/30\n",
      "625/625 - 2s - loss: 0.0607 - accuracy: 0.9809 - val_loss: 0.6466 - val_accuracy: 0.8283\n",
      "Epoch 20/30\n",
      "625/625 - 2s - loss: 0.0547 - accuracy: 0.9836 - val_loss: 0.6664 - val_accuracy: 0.8289\n",
      "Epoch 21/30\n",
      "625/625 - 2s - loss: 0.0513 - accuracy: 0.9843 - val_loss: 0.7260 - val_accuracy: 0.8235\n",
      "Epoch 22/30\n",
      "625/625 - 2s - loss: 0.0487 - accuracy: 0.9847 - val_loss: 0.7328 - val_accuracy: 0.8269\n",
      "Epoch 23/30\n",
      "625/625 - 2s - loss: 0.0449 - accuracy: 0.9857 - val_loss: 0.7739 - val_accuracy: 0.8202\n",
      "Epoch 24/30\n",
      "625/625 - 2s - loss: 0.0402 - accuracy: 0.9881 - val_loss: 0.7948 - val_accuracy: 0.8232\n",
      "Epoch 25/30\n",
      "625/625 - 2s - loss: 0.0394 - accuracy: 0.9877 - val_loss: 0.8383 - val_accuracy: 0.8193\n",
      "Epoch 26/30\n",
      "625/625 - 2s - loss: 0.0347 - accuracy: 0.9898 - val_loss: 0.8643 - val_accuracy: 0.8213\n",
      "Epoch 27/30\n",
      "625/625 - 2s - loss: 0.0329 - accuracy: 0.9912 - val_loss: 0.9061 - val_accuracy: 0.8171\n",
      "Epoch 28/30\n",
      "625/625 - 2s - loss: 0.0305 - accuracy: 0.9911 - val_loss: 0.9615 - val_accuracy: 0.8146\n",
      "Epoch 29/30\n",
      "625/625 - 2s - loss: 0.0273 - accuracy: 0.9923 - val_loss: 0.9675 - val_accuracy: 0.8161\n",
      "Epoch 30/30\n",
      "625/625 - 2s - loss: 0.0252 - accuracy: 0.9934 - val_loss: 1.0046 - val_accuracy: 0.8164\n"
     ]
    }
   ],
   "source": [
    "history = model1.fit(training_padded, \n",
    "                    training_labels, \n",
    "                    epochs=30, \n",
    "                    validation_data=(testing_padded, testing_labels), \n",
    "                    verbose=2)"
   ]
  },
  {
   "cell_type": "code",
   "execution_count": 14,
   "metadata": {},
   "outputs": [],
   "source": [
    "#Using LSTM Layer \n",
    "model2 = tf.keras.Sequential([\n",
    "    tf.keras.layers.Embedding(vocab_size, embedding_dim, input_length=max_length),\n",
    "    tf.keras.layers.Bidirectional(tf.keras.layers.LSTM(32)),\n",
    "    tf.keras.layers.Dense(24, activation='relu'),\n",
    "    tf.keras.layers.Dense(1, activation='sigmoid')\n",
    "])\n",
    "model2.compile(loss='binary_crossentropy',optimizer='adam',metrics=['accuracy'])"
   ]
  },
  {
   "cell_type": "code",
   "execution_count": 15,
   "metadata": {},
   "outputs": [
    {
     "name": "stdout",
     "output_type": "stream",
     "text": [
      "Epoch 1/30\n",
      "625/625 - 28s - loss: 0.4220 - accuracy: 0.7940 - val_loss: 0.3200 - val_accuracy: 0.8617\n",
      "Epoch 2/30\n",
      "625/625 - 25s - loss: 0.2078 - accuracy: 0.9160 - val_loss: 0.3378 - val_accuracy: 0.8566\n",
      "Epoch 3/30\n",
      "625/625 - 25s - loss: 0.1340 - accuracy: 0.9498 - val_loss: 0.3984 - val_accuracy: 0.8545\n",
      "Epoch 4/30\n",
      "625/625 - 27s - loss: 0.0745 - accuracy: 0.9748 - val_loss: 0.5073 - val_accuracy: 0.8450\n",
      "Epoch 5/30\n",
      "625/625 - 30s - loss: 0.0449 - accuracy: 0.9858 - val_loss: 0.6374 - val_accuracy: 0.8414\n",
      "Epoch 6/30\n",
      "625/625 - 26s - loss: 0.0292 - accuracy: 0.9913 - val_loss: 0.6921 - val_accuracy: 0.8368\n",
      "Epoch 7/30\n",
      "625/625 - 24s - loss: 0.0218 - accuracy: 0.9935 - val_loss: 0.7856 - val_accuracy: 0.8371\n",
      "Epoch 8/30\n",
      "625/625 - 25s - loss: 0.0148 - accuracy: 0.9955 - val_loss: 0.8624 - val_accuracy: 0.8316\n",
      "Epoch 9/30\n",
      "625/625 - 24s - loss: 0.0110 - accuracy: 0.9963 - val_loss: 1.0359 - val_accuracy: 0.8311\n",
      "Epoch 10/30\n",
      "625/625 - 26s - loss: 0.0082 - accuracy: 0.9975 - val_loss: 0.9834 - val_accuracy: 0.8341\n",
      "Epoch 11/30\n",
      "625/625 - 25s - loss: 0.0089 - accuracy: 0.9970 - val_loss: 1.1676 - val_accuracy: 0.8302\n",
      "Epoch 12/30\n",
      "625/625 - 24s - loss: 0.0061 - accuracy: 0.9981 - val_loss: 1.1929 - val_accuracy: 0.8308\n",
      "Epoch 13/30\n",
      "625/625 - 25s - loss: 0.0085 - accuracy: 0.9966 - val_loss: 1.1930 - val_accuracy: 0.8293\n",
      "Epoch 14/30\n",
      "625/625 - 24s - loss: 0.0063 - accuracy: 0.9980 - val_loss: 1.3090 - val_accuracy: 0.8287\n",
      "Epoch 15/30\n",
      "625/625 - 24s - loss: 0.0040 - accuracy: 0.9989 - val_loss: 1.2237 - val_accuracy: 0.8296\n",
      "Epoch 16/30\n",
      "625/625 - 24s - loss: 0.0037 - accuracy: 0.9987 - val_loss: 1.3065 - val_accuracy: 0.8299\n",
      "Epoch 17/30\n",
      "625/625 - 23s - loss: 0.0075 - accuracy: 0.9973 - val_loss: 1.3940 - val_accuracy: 0.8255\n",
      "Epoch 18/30\n",
      "625/625 - 23s - loss: 0.0053 - accuracy: 0.9983 - val_loss: 1.3922 - val_accuracy: 0.8255\n",
      "Epoch 19/30\n",
      "625/625 - 24s - loss: 0.0028 - accuracy: 0.9991 - val_loss: 1.3243 - val_accuracy: 0.8223\n",
      "Epoch 20/30\n",
      "625/625 - 24s - loss: 0.0032 - accuracy: 0.9991 - val_loss: 1.4016 - val_accuracy: 0.8205\n",
      "Epoch 21/30\n",
      "625/625 - 27s - loss: 0.0031 - accuracy: 0.9990 - val_loss: 1.1604 - val_accuracy: 0.8229\n",
      "Epoch 22/30\n",
      "625/625 - 29s - loss: 0.0028 - accuracy: 0.9991 - val_loss: 1.4607 - val_accuracy: 0.8255\n",
      "Epoch 23/30\n",
      "625/625 - 25s - loss: 0.0028 - accuracy: 0.9988 - val_loss: 1.3617 - val_accuracy: 0.8201\n",
      "Epoch 24/30\n",
      "625/625 - 23s - loss: 0.0021 - accuracy: 0.9994 - val_loss: 1.5977 - val_accuracy: 0.8198\n",
      "Epoch 25/30\n",
      "625/625 - 23s - loss: 0.0017 - accuracy: 0.9994 - val_loss: 1.5722 - val_accuracy: 0.8249\n",
      "Epoch 26/30\n",
      "625/625 - 25s - loss: 0.0015 - accuracy: 0.9995 - val_loss: 1.6019 - val_accuracy: 0.8202\n",
      "Epoch 27/30\n",
      "625/625 - 28s - loss: 0.0024 - accuracy: 0.9991 - val_loss: 1.5053 - val_accuracy: 0.8216\n",
      "Epoch 28/30\n",
      "625/625 - 23s - loss: 0.0028 - accuracy: 0.9989 - val_loss: 1.5508 - val_accuracy: 0.8188\n",
      "Epoch 29/30\n",
      "625/625 - 23s - loss: 0.0026 - accuracy: 0.9992 - val_loss: 1.7217 - val_accuracy: 0.8202\n",
      "Epoch 30/30\n",
      "625/625 - 23s - loss: 0.0019 - accuracy: 0.9996 - val_loss: 1.6135 - val_accuracy: 0.8183\n"
     ]
    }
   ],
   "source": [
    "history1 = model2.fit(training_padded, \n",
    "                    training_labels, \n",
    "                    epochs=30, \n",
    "                    validation_data=(testing_padded, testing_labels), \n",
    "                    verbose=2)"
   ]
  },
  {
   "cell_type": "code",
   "execution_count": 16,
   "metadata": {},
   "outputs": [],
   "source": [
    "#Using Convolution Layer\n",
    "model3 = tf.keras.Sequential([\n",
    "    tf.keras.layers.Embedding(vocab_size, embedding_dim, input_length=max_length),\n",
    "    tf.keras.layers.Conv1D(128, 5, activation='relu'),\n",
    "    tf.keras.layers.GlobalMaxPooling1D(),\n",
    "    tf.keras.layers.Dense(24, activation='relu'),\n",
    "    tf.keras.layers.Dense(1, activation='sigmoid')\n",
    "])\n",
    "model3.compile(loss='binary_crossentropy',optimizer='adam',metrics=['accuracy'])"
   ]
  },
  {
   "cell_type": "code",
   "execution_count": 17,
   "metadata": {},
   "outputs": [
    {
     "name": "stdout",
     "output_type": "stream",
     "text": [
      "Epoch 1/30\n",
      "625/625 - 6s - loss: 0.4403 - accuracy: 0.7793 - val_loss: 0.3520 - val_accuracy: 0.8456\n",
      "Epoch 2/30\n",
      "625/625 - 5s - loss: 0.2276 - accuracy: 0.9091 - val_loss: 0.3603 - val_accuracy: 0.8498\n",
      "Epoch 3/30\n",
      "625/625 - 5s - loss: 0.1153 - accuracy: 0.9607 - val_loss: 0.4485 - val_accuracy: 0.8420\n",
      "Epoch 4/30\n",
      "625/625 - 5s - loss: 0.0461 - accuracy: 0.9868 - val_loss: 0.5789 - val_accuracy: 0.8398\n",
      "Epoch 5/30\n",
      "625/625 - 5s - loss: 0.0154 - accuracy: 0.9962 - val_loss: 0.7227 - val_accuracy: 0.8372\n",
      "Epoch 6/30\n",
      "625/625 - 5s - loss: 0.0055 - accuracy: 0.9985 - val_loss: 0.8282 - val_accuracy: 0.8335\n",
      "Epoch 7/30\n",
      "625/625 - 5s - loss: 0.0024 - accuracy: 0.9992 - val_loss: 0.9404 - val_accuracy: 0.8328\n",
      "Epoch 8/30\n",
      "625/625 - 5s - loss: 0.0019 - accuracy: 0.9995 - val_loss: 0.9920 - val_accuracy: 0.8378\n",
      "Epoch 9/30\n",
      "625/625 - 5s - loss: 0.0015 - accuracy: 0.9995 - val_loss: 1.0400 - val_accuracy: 0.8368\n",
      "Epoch 10/30\n",
      "625/625 - 5s - loss: 8.5852e-04 - accuracy: 0.9997 - val_loss: 1.1117 - val_accuracy: 0.8346\n",
      "Epoch 11/30\n",
      "625/625 - 5s - loss: 9.9805e-04 - accuracy: 0.9997 - val_loss: 1.2168 - val_accuracy: 0.8255\n",
      "Epoch 12/30\n",
      "625/625 - 5s - loss: 0.0027 - accuracy: 0.9990 - val_loss: 1.2803 - val_accuracy: 0.8335\n",
      "Epoch 13/30\n",
      "625/625 - 5s - loss: 0.0087 - accuracy: 0.9969 - val_loss: 1.2960 - val_accuracy: 0.8271\n",
      "Epoch 14/30\n",
      "625/625 - 5s - loss: 0.0057 - accuracy: 0.9980 - val_loss: 1.3097 - val_accuracy: 0.8317\n",
      "Epoch 15/30\n",
      "625/625 - 5s - loss: 0.0048 - accuracy: 0.9986 - val_loss: 1.3436 - val_accuracy: 0.8304\n",
      "Epoch 16/30\n",
      "625/625 - 5s - loss: 0.0012 - accuracy: 0.9996 - val_loss: 1.3658 - val_accuracy: 0.8305\n",
      "Epoch 17/30\n",
      "625/625 - 5s - loss: 7.5195e-04 - accuracy: 0.9996 - val_loss: 1.4481 - val_accuracy: 0.8268\n",
      "Epoch 18/30\n",
      "625/625 - 5s - loss: 6.9758e-04 - accuracy: 0.9995 - val_loss: 1.4304 - val_accuracy: 0.8314\n",
      "Epoch 19/30\n",
      "625/625 - 5s - loss: 4.3240e-04 - accuracy: 0.9998 - val_loss: 1.4376 - val_accuracy: 0.8326\n",
      "Epoch 20/30\n",
      "625/625 - 5s - loss: 7.4005e-04 - accuracy: 0.9997 - val_loss: 1.5108 - val_accuracy: 0.8220\n",
      "Epoch 21/30\n",
      "625/625 - 5s - loss: 7.1011e-04 - accuracy: 0.9997 - val_loss: 1.4561 - val_accuracy: 0.8323\n",
      "Epoch 22/30\n",
      "625/625 - 5s - loss: 6.0367e-04 - accuracy: 0.9996 - val_loss: 1.5018 - val_accuracy: 0.8305\n",
      "Epoch 23/30\n",
      "625/625 - 5s - loss: 5.2036e-04 - accuracy: 0.9997 - val_loss: 1.5490 - val_accuracy: 0.8302\n",
      "Epoch 24/30\n",
      "625/625 - 5s - loss: 4.7305e-04 - accuracy: 0.9997 - val_loss: 1.6220 - val_accuracy: 0.8298\n",
      "Epoch 25/30\n",
      "625/625 - 5s - loss: 5.8705e-04 - accuracy: 0.9998 - val_loss: 1.6183 - val_accuracy: 0.8281\n",
      "Epoch 26/30\n",
      "625/625 - 5s - loss: 4.9015e-04 - accuracy: 0.9998 - val_loss: 1.7170 - val_accuracy: 0.8241\n",
      "Epoch 27/30\n",
      "625/625 - 6s - loss: 4.0471e-04 - accuracy: 0.9997 - val_loss: 1.7449 - val_accuracy: 0.8286\n",
      "Epoch 28/30\n",
      "625/625 - 6s - loss: 4.7424e-04 - accuracy: 0.9997 - val_loss: 1.7754 - val_accuracy: 0.8277\n",
      "Epoch 29/30\n",
      "625/625 - 5s - loss: 4.1697e-04 - accuracy: 0.9997 - val_loss: 1.8277 - val_accuracy: 0.8278\n",
      "Epoch 30/30\n",
      "625/625 - 5s - loss: 0.0016 - accuracy: 0.9994 - val_loss: 1.8183 - val_accuracy: 0.8217\n"
     ]
    }
   ],
   "source": [
    "history2 = model3.fit(training_padded, \n",
    "                    training_labels, \n",
    "                    epochs=30, \n",
    "                    validation_data=(testing_padded, testing_labels), \n",
    "                    verbose=2)"
   ]
  },
  {
   "cell_type": "code",
   "execution_count": 18,
   "metadata": {},
   "outputs": [],
   "source": [
    "#Using Gated Recurrent Unit Layer\n",
    "model4 = tf.keras.Sequential([\n",
    "    tf.keras.layers.Embedding(vocab_size, embedding_dim, input_length=max_length),\n",
    "    tf.keras.layers.Bidirectional(tf.keras.layers.GRU(32)),\n",
    "    tf.keras.layers.Dense(24, activation='relu'),\n",
    "    tf.keras.layers.Dense(1, activation='sigmoid')\n",
    "])\n",
    "model4.compile(loss='binary_crossentropy',optimizer='adam',metrics=['accuracy'])"
   ]
  },
  {
   "cell_type": "code",
   "execution_count": 19,
   "metadata": {},
   "outputs": [
    {
     "name": "stdout",
     "output_type": "stream",
     "text": [
      "Epoch 1/30\n",
      "625/625 - 26s - loss: 0.4091 - accuracy: 0.8001 - val_loss: 0.3320 - val_accuracy: 0.8569\n",
      "Epoch 2/30\n",
      "625/625 - 21s - loss: 0.2190 - accuracy: 0.9111 - val_loss: 0.3470 - val_accuracy: 0.8501\n",
      "Epoch 3/30\n",
      "625/625 - 21s - loss: 0.1468 - accuracy: 0.9441 - val_loss: 0.4092 - val_accuracy: 0.8447\n",
      "Epoch 4/30\n",
      "625/625 - 23s - loss: 0.0949 - accuracy: 0.9671 - val_loss: 0.4864 - val_accuracy: 0.8472\n",
      "Epoch 5/30\n",
      "625/625 - 25s - loss: 0.0638 - accuracy: 0.9787 - val_loss: 0.5166 - val_accuracy: 0.8423\n",
      "Epoch 6/30\n",
      "625/625 - 26s - loss: 0.0357 - accuracy: 0.9888 - val_loss: 0.7147 - val_accuracy: 0.8411\n",
      "Epoch 7/30\n",
      "625/625 - 23s - loss: 0.0251 - accuracy: 0.9920 - val_loss: 0.7772 - val_accuracy: 0.8401\n",
      "Epoch 8/30\n",
      "625/625 - 28s - loss: 0.0177 - accuracy: 0.9945 - val_loss: 0.9175 - val_accuracy: 0.8344\n",
      "Epoch 9/30\n",
      "625/625 - 26s - loss: 0.0116 - accuracy: 0.9967 - val_loss: 0.9597 - val_accuracy: 0.8360\n",
      "Epoch 10/30\n",
      "625/625 - 28s - loss: 0.0098 - accuracy: 0.9966 - val_loss: 1.0273 - val_accuracy: 0.8357\n",
      "Epoch 11/30\n",
      "625/625 - 24s - loss: 0.0085 - accuracy: 0.9975 - val_loss: 1.1205 - val_accuracy: 0.8340\n",
      "Epoch 12/30\n",
      "625/625 - 25s - loss: 0.0060 - accuracy: 0.9980 - val_loss: 1.1845 - val_accuracy: 0.8278\n",
      "Epoch 13/30\n",
      "625/625 - 23s - loss: 0.0068 - accuracy: 0.9977 - val_loss: 1.1349 - val_accuracy: 0.8354\n",
      "Epoch 14/30\n",
      "625/625 - 23s - loss: 0.0073 - accuracy: 0.9975 - val_loss: 1.1745 - val_accuracy: 0.8338\n",
      "Epoch 15/30\n",
      "625/625 - 24s - loss: 0.0071 - accuracy: 0.9974 - val_loss: 1.2082 - val_accuracy: 0.8320\n",
      "Epoch 16/30\n",
      "625/625 - 24s - loss: 0.0055 - accuracy: 0.9981 - val_loss: 1.2246 - val_accuracy: 0.8287\n",
      "Epoch 17/30\n",
      "625/625 - 27s - loss: 0.0040 - accuracy: 0.9988 - val_loss: 1.3386 - val_accuracy: 0.8323\n",
      "Epoch 18/30\n",
      "625/625 - 31s - loss: 0.0020 - accuracy: 0.9995 - val_loss: 1.2997 - val_accuracy: 0.8310\n",
      "Epoch 19/30\n",
      "625/625 - 30s - loss: 0.0013 - accuracy: 0.9997 - val_loss: 1.4187 - val_accuracy: 0.8326\n",
      "Epoch 20/30\n",
      "625/625 - 29s - loss: 0.0014 - accuracy: 0.9996 - val_loss: 1.3121 - val_accuracy: 0.8262\n",
      "Epoch 21/30\n",
      "625/625 - 24s - loss: 0.0016 - accuracy: 0.9996 - val_loss: 1.4175 - val_accuracy: 0.8329\n",
      "Epoch 22/30\n",
      "625/625 - 24s - loss: 0.0040 - accuracy: 0.9987 - val_loss: 1.4291 - val_accuracy: 0.8298\n",
      "Epoch 23/30\n",
      "625/625 - 22s - loss: 0.0058 - accuracy: 0.9977 - val_loss: 1.2704 - val_accuracy: 0.8322\n",
      "Epoch 24/30\n",
      "625/625 - 22s - loss: 0.0046 - accuracy: 0.9981 - val_loss: 1.3211 - val_accuracy: 0.8325\n",
      "Epoch 25/30\n",
      "625/625 - 22s - loss: 0.0035 - accuracy: 0.9990 - val_loss: 1.4931 - val_accuracy: 0.8180\n",
      "Epoch 26/30\n",
      "625/625 - 21s - loss: 0.0018 - accuracy: 0.9994 - val_loss: 1.4062 - val_accuracy: 0.8332\n",
      "Epoch 27/30\n",
      "625/625 - 22s - loss: 0.0014 - accuracy: 0.9995 - val_loss: 1.4156 - val_accuracy: 0.8316\n",
      "Epoch 28/30\n",
      "625/625 - 21s - loss: 0.0012 - accuracy: 0.9997 - val_loss: 1.3979 - val_accuracy: 0.8313\n",
      "Epoch 29/30\n",
      "625/625 - 22s - loss: 0.0014 - accuracy: 0.9995 - val_loss: 1.4127 - val_accuracy: 0.8337\n",
      "Epoch 30/30\n",
      "625/625 - 21s - loss: 0.0010 - accuracy: 0.9995 - val_loss: 1.4939 - val_accuracy: 0.8323\n"
     ]
    }
   ],
   "source": [
    "history3 = model4.fit(training_padded, \n",
    "                    training_labels, \n",
    "                    epochs=30, \n",
    "                    validation_data=(testing_padded, testing_labels), \n",
    "                    verbose=2)"
   ]
  },
  {
   "cell_type": "markdown",
   "metadata": {},
   "source": [
    "# Results"
   ]
  },
  {
   "cell_type": "markdown",
   "metadata": {},
   "source": [
    "| Model | Epochs | Training Accuracy | Validation |\n",
    "|---|---|---|---|\n",
    "|Simple RNN|30|99.34%|81.64%|\n",
    "|LSTM|30|99.96%|81.83%|\n",
    "|Convolution|30|99.94%|82.17%|\n",
    "|GRU|30|99.95%|83.23%|"
   ]
  }
 ],
 "metadata": {
  "kernelspec": {
   "display_name": "Python 3",
   "language": "python",
   "name": "python3"
  },
  "language_info": {
   "codemirror_mode": {
    "name": "ipython",
    "version": 3
   },
   "file_extension": ".py",
   "mimetype": "text/x-python",
   "name": "python",
   "nbconvert_exporter": "python",
   "pygments_lexer": "ipython3",
   "version": "3.8.5"
  }
 },
 "nbformat": 4,
 "nbformat_minor": 4
}
